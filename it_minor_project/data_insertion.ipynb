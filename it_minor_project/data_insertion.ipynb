{
 "cells": [
  {
   "cell_type": "code",
   "execution_count": 78,
   "id": "f1e6bc48-a2ee-4834-b54e-b627a952bf70",
   "metadata": {},
   "outputs": [
    {
     "name": "stdout",
     "output_type": "stream",
     "text": [
      "Data inserted successfully!\n"
     ]
    }
   ],
   "source": [
    "import pandas as pd\n",
    "import pymysql\n",
    "import numpy as np\n",
    "\n",
    "# Function to establish a MySQL connection\n",
    "def connect_to_mysql():\n",
    "    return pymysql.connect(\n",
    "        host='localhost',  # Change this if your MySQL server is hosted elsewhere\n",
    "        user='root',\n",
    "        password='vabhi2004',\n",
    "        database='it_project',\n",
    "        charset='utf8mb4',\n",
    "        cursorclass=pymysql.cursors.DictCursor\n",
    "    )\n",
    "\n",
    "# Function to read data from Excel, handle NaN values, and write to MySQL\n",
    "def excel_to_mysql(excel_file, table_name):\n",
    "    # Read Excel into pandas DataFrame\n",
    "    df = pd.read_excel(excel_file)\n",
    "    \n",
    "    # Handle NaN values\n",
    "    df = df.fillna('')  # Replace NaN values with an empty string or any other desired value\n",
    "    \n",
    "    # Establish MySQL connection\n",
    "    connection = connect_to_mysql()\n",
    "    \n",
    "    try:\n",
    "        with connection.cursor() as cursor:\n",
    "            # Insert data into MySQL table\n",
    "            for index, row in df.iterrows():\n",
    "                placeholders = ', '.join(['%s'] * len(row))\n",
    "                columns = ', '.join(row.keys())\n",
    "                sql = f\"INSERT INTO {table_name}  VALUES ({placeholders})\"\n",
    "                cursor.execute(sql, tuple(row))\n",
    "        # Commit changes\n",
    "        connection.commit()\n",
    "        print(\"Data inserted successfully!\")\n",
    "        \n",
    "    finally:\n",
    "        # Close the connection\n",
    "        connection.close()\n",
    "\n",
    "# Example usage\n",
    "excel_file = \"C:\\\\Users\\\\V Abhiram\\\\OneDrive\\\\Desktop\\\\Book6.xlsx\"\n",
    "table_name = 'blue_lock'\n",
    "excel_to_mysql(excel_file, table_name)\n"
   ]
  },
  {
   "cell_type": "code",
   "execution_count": null,
   "id": "b3d6ddd3-db57-42bb-9629-0611f9e84244",
   "metadata": {},
   "outputs": [],
   "source": []
  }
 ],
 "metadata": {
  "kernelspec": {
   "display_name": "Python 3 (ipykernel)",
   "language": "python",
   "name": "python3"
  },
  "language_info": {
   "codemirror_mode": {
    "name": "ipython",
    "version": 3
   },
   "file_extension": ".py",
   "mimetype": "text/x-python",
   "name": "python",
   "nbconvert_exporter": "python",
   "pygments_lexer": "ipython3",
   "version": "3.12.1"
  }
 },
 "nbformat": 4,
 "nbformat_minor": 5
}
