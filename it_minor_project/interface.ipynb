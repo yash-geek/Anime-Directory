{
 "cells": [
  {
   "cell_type": "code",
   "execution_count": 5,
   "id": "dd20e016-b6bc-43ea-bcda-e7aa11be94b2",
   "metadata": {},
   "outputs": [
    {
     "name": "stdout",
     "output_type": "stream",
     "text": [
      "Connected to MySQL database\n",
      "*************************************************Welcome to Anime Directory*****************************************************************\n",
      "This project presents the development of an anime database, focusing on database design, user interface development, and community engagement \n",
      "features. Motivated by the growing popularity of anime, the database offers users an intuitive platform to organize, search, and contribute\n",
      "to the anime community. Key features include efficient data organization, user-friendly navigation, and interactive elements like user reviews. \n",
      "The project aims to serve as a valuable resource for anime enthusiasts and researchers within our college community, fostering exploration \n",
      "and collaboration.\n",
      "select Yes or No to continue\n"
     ]
    },
    {
     "name": "stdin",
     "output_type": "stream",
     "text": [
      "Y/N: Y\n"
     ]
    },
    {
     "name": "stdout",
     "output_type": "stream",
     "text": [
      "Displaying Anime\n",
      "('A0101', 'Attack On Titan(Shingeki No Kyojin)')\n",
      "('A0102', 'My Hero Academia')\n",
      "('A0103', 'Blue Lock')\n",
      "('A0104', 'Classroom Of The Elite')\n",
      "('A0105', 'Monster')\n"
     ]
    },
    {
     "name": "stdin",
     "output_type": "stream",
     "text": [
      "would you like to continue Y/N: Y\n"
     ]
    },
    {
     "name": "stdout",
     "output_type": "stream",
     "text": [
      "Connected to MySQL database\n",
      "we have a set of operations please specify one:\n",
      "        1. details of the particular anime\n",
      "        2. display of characters of particular anime with anime id\n",
      "        3. display of character and their property\n",
      "        4. comparison between different characters of the same anime\n",
      "        5. comparison between different characters of the different anime\n",
      "        6. details of ratings\n",
      "        7. display the number of seasons and episodes\n"
     ]
    },
    {
     "name": "stdin",
     "output_type": "stream",
     "text": [
      "enter your choice 6\n",
      "enter the anime id: A0104\n"
     ]
    },
    {
     "name": "stdout",
     "output_type": "stream",
     "text": [
      "('Ichino Yuyu (Art), Kinugasa Souga', 'Lerche Studio', '7.7', '7.86')\n"
     ]
    },
    {
     "name": "stdin",
     "output_type": "stream",
     "text": [
      "would you like to continue Y/N: N\n"
     ]
    }
   ],
   "source": [
    "import mysql.connector\n",
    "\n",
    "# Connect to MySQL database\n",
    "def connect_to_mysql():\n",
    "    try:\n",
    "        conn = mysql.connector.connect(\n",
    "            host=\"localhost\",\n",
    "            user=\"root\",\n",
    "            password=\"vabhi2004\",\n",
    "            database=\"it_project\"\n",
    "        )\n",
    "        print(\"Connected to MySQL database\")\n",
    "        return conn\n",
    "    except mysql.connector.Error as err:\n",
    "        print(\"Error:\", err)\n",
    "\n",
    "# Execute MySQL query and print results\n",
    "def execute_query(conn, query):\n",
    "    try:\n",
    "        cursor = conn.cursor()\n",
    "        cursor.execute(query)\n",
    "        # Check if the query is a stored procedure call\n",
    "        if cursor.description is not None:\n",
    "            rows = cursor.fetchall()\n",
    "            if len(rows) == 0:\n",
    "                print(\"No results found.\")\n",
    "            else:\n",
    "                for row in rows:\n",
    "                    print(row)\n",
    "        else:\n",
    "            # Print success message for queries like insert, update, etc.\n",
    "            print(\"Query executed successfully.\")\n",
    "    except mysql.connector.Error as err:\n",
    "        print(\"Error:\", err)\n",
    "\n",
    "# Example usage\n",
    "# Connect to MySQL\n",
    "connection = connect_to_mysql()\n",
    "print(\"*************************************************Welcome to Anime Directory*****************************************************************\")\n",
    "print('''This project presents the development of an anime database, focusing on database design, user interface development, and community engagement \n",
    "features. Motivated by the growing popularity of anime, the database offers users an intuitive platform to organize, search, and contribute\n",
    "to the anime community. Key features include efficient data organization, user-friendly navigation, and interactive elements like user reviews. \n",
    "The project aims to serve as a valuable resource for anime enthusiasts and researchers within our college community, fostering exploration \n",
    "and collaboration.''')\n",
    "print(\"select Yes or No to continue\")\n",
    "a = input(\"Y/N:\")\n",
    "if a == 'Y':\n",
    "    print(\"Displaying Anime\")\n",
    "    query = \"call anime_display();\"\n",
    "    execute_query(connection, query)\n",
    "    b = input(\"would you like to continue Y/N:\")\n",
    "    while b == \"Y\":\n",
    "        connection = connect_to_mysql()\n",
    "        print(\"we have a set of operations please specify one:\")\n",
    "        print('''        1. details of the particular anime\n",
    "        2. display of characters of particular anime with anime id\n",
    "        3. display of character and their property\n",
    "        4. comparison between different characters of the same anime\n",
    "        5. comparison between different characters of the different anime\n",
    "        6. details of ratings\n",
    "        7. display the number of seasons and episodes''')\n",
    "        c = int(input(\"enter your choice\"))\n",
    "        if c == 1:\n",
    "            a = input(\"enter your anime:\")\n",
    "            query = \"call display('\" + a + \"');\"\n",
    "            execute_query(connection, query)\n",
    "        elif c == 2:\n",
    "            a = input(\"enter your anime whose character has to be displayed:\")\n",
    "            query = \"call character_display('\" + a + \"');\"\n",
    "            execute_query(connection, query)\n",
    "        elif c == 3:\n",
    "            a = input(\"anime id:\")\n",
    "            d = input(\"enter the character name:\")\n",
    "            query = \"call chardetails('\" + a + \"','\" + d + \"');\"\n",
    "            execute_query(connection, query)\n",
    "        elif c == 4:\n",
    "            a = input(\"anime id:\")\n",
    "            d = input(\"enter first character name:\")\n",
    "            e = input(\"enter second character name:\")\n",
    "            query = \"call comp1('\" + a + \"','\" + d + \"','\" + e + \"');\"\n",
    "            execute_query(connection, query)\n",
    "        elif c == 6:\n",
    "            a = input(\"enter the anime id:\")\n",
    "            query = \"call ratings('\" + a + \"');\"\n",
    "            execute_query(connection, query)\n",
    "        elif c == 5:\n",
    "            a = input(\"first anime id:\")\n",
    "            d = input(\"second anime id:\")\n",
    "            e = input(\"first character comparison:\")\n",
    "            f = input(\"second character comparison:\")\n",
    "            query = \"call comp2('\" + a + \"','\" + e + \"','\" + d + \"','\" + f + \"');\"\n",
    "            execute_query(connection, query)\n",
    "        elif c == 7:\n",
    "            a = input(\"enter anime id:\")\n",
    "            query = \"call details('\" + a + \"');\"\n",
    "            execute_query(connection, query)\n",
    "        else:\n",
    "            print(\"invalid option\")\n",
    "        b = input(\"would you like to continue Y/N:\")\n",
    "else:\n",
    "    print(\"###################################################### Thank you ########################################################################\")\n",
    "    connection.close()\n"
   ]
  },
  {
   "cell_type": "code",
   "execution_count": null,
   "id": "91ea4760-2032-4fa7-b980-6bcbbae9ff5c",
   "metadata": {},
   "outputs": [],
   "source": []
  }
 ],
 "metadata": {
  "kernelspec": {
   "display_name": "Python 3 (ipykernel)",
   "language": "python",
   "name": "python3"
  },
  "language_info": {
   "codemirror_mode": {
    "name": "ipython",
    "version": 3
   },
   "file_extension": ".py",
   "mimetype": "text/x-python",
   "name": "python",
   "nbconvert_exporter": "python",
   "pygments_lexer": "ipython3",
   "version": "3.12.1"
  }
 },
 "nbformat": 4,
 "nbformat_minor": 5
}
